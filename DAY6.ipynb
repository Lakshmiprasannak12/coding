{
 "cells": [
  {
   "cell_type": "code",
   "execution_count": 20,
   "id": "536c9cfb-da30-442c-9a12-9d122151a239",
   "metadata": {},
   "outputs": [
    {
     "name": "stdout",
     "output_type": "stream",
     "text": [
      "the object vales: 10\n",
      "the class var value: 1\n",
      "the object vales: 20\n",
      "the class var value: 2\n",
      "the object vales: 30\n",
      "the class var value: 3\n",
      "object with value 10 is going out of scope\n",
      "object with value 20 is going out of scope\n",
      "object with value 30 is going out of scope\n"
     ]
    }
   ],
   "source": [
    "#delete method __del__()\n",
    "\n",
    "class abc():\n",
    "    classvar=0#it is the class variable\n",
    "    def __init__(self,var):\n",
    "        abc.classvar +=1 #classvariable alredy assigned with 0 and it is inc to 1 in this step\n",
    "        self.var=var\n",
    "        print(\"the object vales:\",var)#the value we pass to var is printed\n",
    "        print(\"the class var value:\",abc.classvar)#the inc valu of class var is printed\n",
    "    def __del__(self):\n",
    "        abc.classvar -=1\n",
    "        print(\"object with value %d is going out of scope\"%self.var)\n",
    "obj1=abc(10)\n",
    "obj2=abc(20)\n",
    "obj3=abc(30)\n",
    "del obj1\n",
    "del obj2\n",
    "del obj3\n",
    "\n",
    "        "
   ]
  },
  {
   "cell_type": "code",
   "execution_count": null,
   "id": "de5153e8-43d2-45bd-ae30-5eefc9fe9457",
   "metadata": {},
   "outputs": [],
   "source": [
    "'''\n",
    "special methods\n",
    "\n",
    "1 __repr__()--used for string terminologies\n",
    "2 __len__()--used to get object length\n",
    "3 __cmp__()--compares two objects\n",
    "4 __call__()--its a method but acts as class and used in exceptions\n",
    "5 __hash__()--\n",
    "\n",
    "operational\n",
    " __gt__(),__ge__(),__lt__(),__le__,__eq__(),__ne__() these are used to comapre objects in a class\n",
    "\n",
    "__iter__()--used to iteration over object\n",
    "__getitem__()\n",
    "__setitem__()\n",
    "'''\n",
    "\n",
    "\n",
    "        "
   ]
  },
  {
   "cell_type": "code",
   "execution_count": 28,
   "id": "fe936c00-034c-4da5-b9b8-351396425011",
   "metadata": {},
   "outputs": [
    {
     "name": "stdout",
     "output_type": "stream",
     "text": [
      "before modify\n",
      "[1, 2, 3, 4, 5, 6, 7, 8, 9, 10, 12, 13, 14, 15]\n",
      "After modify\n",
      "[1, 2, 3, 50, 5, 6, 7, 8, 9, 10, 12, 13, 14, 15]\n"
     ]
    }
   ],
   "source": [
    "class num:\n",
    "    def __init__(self,mylist):\n",
    "        self.mylist=mylist\n",
    "    def __getitem__(self,index):\n",
    "        return self.mylist[index]\n",
    "    def __setitem__(self,index,val):\n",
    "        self.mylist[index]=val\n",
    "numlist=num([1,2,3,4,5,6,7,8,9,10,12,13,14,15])\n",
    "print(\"before modify\")\n",
    "print(numlist.mylist)\n",
    "numlist[3]=50\n",
    "print(\"After modify\")\n",
    "print(numlist.mylist)\n"
   ]
  },
  {
   "cell_type": "code",
   "execution_count": 46,
   "id": "c48ceca7-5c85-4a92-9b6f-82534847b759",
   "metadata": {},
   "outputs": [
    {
     "name": "stdout",
     "output_type": "stream",
     "text": [
      "from class method : 10\n",
      "from class method : 100\n",
      "from main module: var1= 10\n"
     ]
    }
   ],
   "source": [
    "#public variable and private variables\n",
    "class abc:\n",
    "    def __init__(self,v1,v2):\n",
    "        self.v1=v1#public\n",
    "        self.__v2=v2#it is private variable \n",
    "    def display(self):\n",
    "        print(\"from class method :\",self.v1)\n",
    "        print(\"from class method :\",self.__v2)\n",
    "\n",
    "obj=abc(10,100)\n",
    "obj.display()\n",
    "print(\"from main module: var1=\",obj.v1)\n",
    "#print(\"from main module: var1=\",obj.__v2)"
   ]
  },
  {
   "cell_type": "code",
   "execution_count": 48,
   "id": "9d4bda16-a392-4023-b8ba-a9993d5903af",
   "metadata": {},
   "outputs": [
    {
     "data": {
      "text/plain": [
       "'built-in class attributes .__\\n1 .__dict__:\\n2 .__doc__:\\n3 .__name__:\\n4 .__module__:\\n5 .__bases__:\\n'"
      ]
     },
     "execution_count": 48,
     "metadata": {},
     "output_type": "execute_result"
    }
   ],
   "source": [
    "'''built-in class attributes .__\n",
    "1 .__dict__:\n",
    "2 .__doc__:\n",
    "3 .__name__:\n",
    "4 .__module__:\n",
    "5 .__bases__:\n",
    "'''\n"
   ]
  },
  {
   "cell_type": "code",
   "execution_count": 58,
   "id": "64a2dc60-650c-4e49-af2b-67e412c037d0",
   "metadata": {},
   "outputs": [
    {
     "name": "stdout",
     "output_type": "stream",
     "text": [
      "var1: 10\n",
      "var2: 12.30485\n",
      "object.__dict__= {'v1': 10, 'v2': 12.30485}\n",
      "object.__doc__= None\n",
      "class.__name__= abc\n",
      "object.__module__= __main__\n",
      "class.__bases__= (<class 'object'>,)\n"
     ]
    }
   ],
   "source": [
    "class abc:\n",
    "    def __init__(self,v1,v2):\n",
    "        self.v1=v1\n",
    "        self.v2=v2\n",
    "    def display(self):\n",
    "        print(\"var1:\",self.v1)\n",
    "        print(\"var2:\",self.v2)\n",
    "obj=abc(10,12.30485)\n",
    "obj.display()\n",
    "print(\"object.__dict__=\",obj.__dict__)\n",
    "print(\"object.__doc__=\",obj.__doc__)\n",
    "print(\"class.__name__=\",abc.__name__)\n",
    "print(\"object.__module__=\",obj.__module__)\n",
    "print(\"class.__bases__=\",abc.__bases__)"
   ]
  },
  {
   "cell_type": "code",
   "execution_count": 60,
   "id": "092f6c34-19b3-4b45-a2a7-caa2fe77c77e",
   "metadata": {},
   "outputs": [
    {
     "data": {
      "text/plain": [
       "'\\n1.multiple\\n2.multilevel\\n3.hierarchy\\n4.hybrid\\n5.single\\n6.multipath(diamond approach)\\n7.meta\\n8.down to up\\n'"
      ]
     },
     "execution_count": 60,
     "metadata": {},
     "output_type": "execute_result"
    }
   ],
   "source": [
    "#Inheritence\n",
    "'''\n",
    "1.multiple\n",
    "2.multilevel\n",
    "3.hierarchy\n",
    "4.hybrid\n",
    "5.single\n",
    "6.multipath(diamond approach)\n",
    "7.meta\n",
    "8.down to up\n",
    "'''"
   ]
  },
  {
   "cell_type": "code",
   "execution_count": 90,
   "id": "1f01d3dd-58c4-46d4-8e26-d417f4395d49",
   "metadata": {},
   "outputs": [
    {
     "name": "stdout",
     "output_type": "stream",
     "text": [
      "Base class1\n",
      "Derived class\n"
     ]
    }
   ],
   "source": [
    "#inheritance -multiple-\n",
    "#code to demonstrate the call from super class through constructor of base class\n",
    "\n",
    "class base1(object):\n",
    "    def __init__(self):\n",
    "        print(\"Base class1\")\n",
    "        #super(base1,self).__init__()\n",
    "class base2(object):\n",
    "    def __init__(self):\n",
    "        print(\"Base class2\")\n",
    "        #super(base2,self).__init__()\n",
    "class derived(base1,base2):\n",
    "    def __init__(self):\n",
    "        super(derived,self).__init__()\n",
    "        print(\"Derived class\")\n",
    "d=derived()  \n"
   ]
  },
  {
   "cell_type": "code",
   "execution_count": 95,
   "id": "e19713ca-d7c8-44f2-bbea-8766940ae9f0",
   "metadata": {},
   "outputs": [
    {
     "name": "stdin",
     "output_type": "stream",
     "text": [
      "enter value of a: 4\n",
      "enter value of b: 5\n"
     ]
    },
    {
     "name": "stdout",
     "output_type": "stream",
     "text": [
      "addition: 9\n",
      "Difference: -1\n",
      "Product: 20\n"
     ]
    }
   ],
   "source": [
    " #multiple inheritance using in calculator\n",
    "class addition:\n",
    "    def add(self,a,b):\n",
    "        return a+b\n",
    "class subtraction:\n",
    "    def sub(self,a,b):\n",
    "        return a-b\n",
    "class calc(addition,subtraction):\n",
    "    def mul(self,a,b):\n",
    "        return a*b\n",
    "c=calc()\n",
    "num1=int(input(\"enter value of a:\"))\n",
    "num2=int(input(\"enter value of b:\"))\n",
    "print(\"addition:\",c.add(num1,num2))\n",
    "print(\"Difference:\",c.sub(num1,num2))\n",
    "print(\"Product:\",c.mul(num1,num2))\n"
   ]
  },
  {
   "cell_type": "code",
   "execution_count": null,
   "id": "677d8222-29e4-46e4-8227-d34e5484e798",
   "metadata": {},
   "outputs": [],
   "source": []
  }
 ],
 "metadata": {
  "kernelspec": {
   "display_name": "Python 3 (ipykernel)",
   "language": "python",
   "name": "python3"
  },
  "language_info": {
   "codemirror_mode": {
    "name": "ipython",
    "version": 3
   },
   "file_extension": ".py",
   "mimetype": "text/x-python",
   "name": "python",
   "nbconvert_exporter": "python",
   "pygments_lexer": "ipython3",
   "version": "3.12.7"
  }
 },
 "nbformat": 4,
 "nbformat_minor": 5
}
