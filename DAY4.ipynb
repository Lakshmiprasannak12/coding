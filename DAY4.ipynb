{
 "cells": [
  {
   "cell_type": "code",
   "execution_count": null,
   "id": "e417c0e6-3195-4a17-90f5-840267e4d8cf",
   "metadata": {},
   "outputs": [
    {
     "name": "stdout",
     "output_type": "stream",
     "text": [
      "poodle\n",
      "bow bow\n"
     ]
    }
   ],
   "source": [
    "#oops concepts\n",
    "#class\n",
    "class dog:\n",
    "    def bark(self):#self is uesd to acces all variales in the classs\n",
    "        print(\"poodle\")\n",
    "        print(\"bow bow\")\n",
    "animal=dog()#animal as object\n",
    "animal.bark()#using animal oject we are accessing the bark function."
   ]
  },
  {
   "cell_type": "code",
   "execution_count": null,
   "id": "a46fe918-72ae-44f7-8181-e5b9ac9a49db",
   "metadata": {},
   "outputs": [
    {
     "name": "stdout",
     "output_type": "stream",
     "text": [
      "vijju\n"
     ]
    }
   ],
   "source": [
    "class boy:\n",
    "    def set_name(self,name):\n",
    "        self.name=name #self.name is the instance variale of a class\n",
    "    def get_name(self):\n",
    "        return self.name\n",
    "s=boy()\n",
    "s.set_name(\"vijju\")#here we canot acces the values of variables directly throug class we need to use the object\n",
    "print(s.get_name())\n",
    "        "
   ]
  },
  {
   "cell_type": "code",
   "execution_count": 49,
   "id": "b83a1b85-311a-4a15-ab33-db7627ce4699",
   "metadata": {},
   "outputs": [
    {
     "name": "stdout",
     "output_type": "stream",
     "text": [
      "8\n",
      "20\n"
     ]
    }
   ],
   "source": [
    "#arthemetic operation by using a class object instance\n",
    "class calc:\n",
    "    def add(self,a,b):\n",
    "        return a+b\n",
    "    def mul(self,a,b):\n",
    "        return a*b\n",
    "c=calc()\n",
    "print(c.add(3,5))\n",
    "print(c.mul(4,5))    "
   ]
  },
  {
   "cell_type": "code",
   "execution_count": null,
   "id": "627a76d4-4755-4ff3-85c9-b8b4524c8570",
   "metadata": {},
   "outputs": [
    {
     "ename": "SyntaxError",
     "evalue": "unexpected character after line continuation character (3248367124.py, line 15)",
     "output_type": "error",
     "traceback": [
      "\u001b[1;36m  Cell \u001b[1;32mIn[57], line 15\u001b[1;36m\u001b[0m\n\u001b[1;33m    print(a.add(),a.sub(),a.mul(),\\n)\u001b[0m\n\u001b[1;37m                                   ^\u001b[0m\n\u001b[1;31mSyntaxError\u001b[0m\u001b[1;31m:\u001b[0m unexpected character after line continuation character\n"
     ]
    }
   ],
   "source": [
    "#arthemetic ooperatio by using self variablec\n",
    "\n",
    "class operations:\n",
    "    def set_values(self,a,b):\n",
    "        self.a=a\n",
    "        self.b=b\n",
    "    def add(self):\n",
    "        return self.a+self.b\n",
    "    def sub(self):\n",
    "        return self.a-self.b\n",
    "    def mul(self):\n",
    "        return self.a*self.b\n",
    "a=operations()\n",
    "a.set_values(5,4)\n",
    "print(a.add())\n",
    "print(a.sub())\n",
    "print(a.mul())\n",
    "    "
   ]
  },
  {
   "cell_type": "code",
   "execution_count": null,
   "id": "77c47f39-4c14-49da-9d8c-6131e4aba2ca",
   "metadata": {},
   "outputs": [],
   "source": []
  }
 ],
 "metadata": {
  "kernelspec": {
   "display_name": "Python 3 (ipykernel)",
   "language": "python",
   "name": "python3"
  },
  "language_info": {
   "codemirror_mode": {
    "name": "ipython",
    "version": 3
   },
   "file_extension": ".py",
   "mimetype": "text/x-python",
   "name": "python",
   "nbconvert_exporter": "python",
   "pygments_lexer": "ipython3",
   "version": "3.12.7"
  }
 },
 "nbformat": 4,
 "nbformat_minor": 5
}
