{
 "cells": [
  {
   "cell_type": "code",
   "execution_count": 7,
   "id": "af1da96d-e16f-48f5-a1e3-adaaeadf10dd",
   "metadata": {},
   "outputs": [
    {
     "name": "stdout",
     "output_type": "stream",
     "text": [
      "Benz\n",
      "169\n",
      "200\n",
      "Car is not moving\n"
     ]
    }
   ],
   "source": [
    "#encapsulation\n",
    "'''basic encapsulation with attributes , private attributes \n",
    "1.__var,__\n",
    "self.__a\n",
    "'''\n",
    "class car:\n",
    "    def __init__(self,brand,speed):\n",
    "        self.brand=brand\n",
    "        self.__speed=speed\n",
    "    def get_speed(self):\n",
    "        return self.__speed\n",
    "    def set_speed(self,speed):\n",
    "        if speed>=0:\n",
    "            self.__speed=speed\n",
    "        else:\n",
    "            print(\"Car is not moving\")\n",
    "c=car(\"Benz\",169)\n",
    "print(c.brand)\n",
    "print(c.get_speed())\n",
    "c.set_speed(200)\n",
    "print(c.get_speed())\n",
    "c.set_speed(-10)"
   ]
  },
  {
   "cell_type": "code",
   "execution_count": 9,
   "id": "37ab238e-9424-4a67-a90d-740c87d3ec4a",
   "metadata": {},
   "outputs": [
    {
     "name": "stdout",
     "output_type": "stream",
     "text": [
      "vijju\n",
      "Name:vijju,Age:21\n"
     ]
    }
   ],
   "source": [
    "#protected attribuutes\\\n",
    "class stu:\n",
    "    def __init__(self,name,age):\n",
    "        self._name=name\n",
    "        self._age=age\n",
    "    def dis_info(self):\n",
    "        print(f\"Name:{self._name},Age:{self._age}\")\n",
    "s=stu(\"vijju\",21)\n",
    "print(s._name)\n",
    "s.dis_info()"
   ]
  },
  {
   "cell_type": "code",
   "execution_count": 7,
   "id": "866b8b0f-d9cd-4455-ab8a-d54b783f185a",
   "metadata": {},
   "outputs": [
    {
     "data": {
      "text/plain": [
       "1260000.0"
      ]
     },
     "execution_count": 7,
     "metadata": {},
     "output_type": "execute_result"
    }
   ],
   "source": [
    "#private methods\n",
    "class emp:\n",
    "    def __init__(self,name,sal):\n",
    "        self.name=name\n",
    "        self.__sal=sal\n",
    "    def __bonus(self):\n",
    "        return self.__sal*0.4\n",
    "    def package(self):\n",
    "        return self.__sal+self.__bonus()\n",
    "e=emp(\"vijju\",900000)\n",
    "e.package()"
   ]
  },
  {
   "cell_type": "code",
   "execution_count": 17,
   "id": "09b13e7f-69fc-4364-9b5e-f96397abf995",
   "metadata": {},
   "outputs": [
    {
     "name": "stdout",
     "output_type": "stream",
     "text": [
      "86.5\n",
      "Name:vijju,average:86.50\n"
     ]
    }
   ],
   "source": [
    "\"\"\"\n",
    "calculate the average of 4 students of a student by taking protectcted attributes\n",
    "pass nameand four sub marksto class student find gpa and assigm the avg to gpa\n",
    "name=\"*******\"\n",
    "marks=[88,79,84,95]\n",
    "output:avg grades =90.0\n",
    "output:name=\"****\",gpa=86.50\n",
    "\"\"\"\n",
    "class stu():\n",
    "    def __init__(self,n,grades):\n",
    "        self._n=n\n",
    "        self._grades=grades\n",
    "    def avg(self):\n",
    "        if not self._grades:\n",
    "            return 0\n",
    "        return sum(self._grades)/len(self._grades)\n",
    "    def dis(self):\n",
    "        print(f\"Name:{self._n},average:{self.avg():.2f}\")\n",
    "s=stu(\"vijju\",[88,79,84,95])\n",
    "print(s.avg())\n",
    "s.dis()\n",
    "\n",
    "        "
   ]
  },
  {
   "cell_type": "code",
   "execution_count": 29,
   "id": "d17937de-c5ab-466f-b9a7-298510a2cd84",
   "metadata": {},
   "outputs": [
    {
     "name": "stdin",
     "output_type": "stream",
     "text": [
      "enter marks sepby comma: 88,79,84,95\n",
      "enter nname: vijju\n"
     ]
    },
    {
     "name": "stdout",
     "output_type": "stream",
     "text": [
      "86.5\n",
      "Name:vijju,average:86.50\n"
     ]
    }
   ],
   "source": [
    "#same as above program but taken the input form uuser thats it\n",
    "class stu():\n",
    "    def __init__(self,n,grades):\n",
    "        self._n=n\n",
    "        self._grades=grades\n",
    "    def avg(self):\n",
    "        if not self._grades:\n",
    "            return 0\n",
    "        return sum(self._grades)/len(self._grades)\n",
    "    def dis(self):\n",
    "        print(f\"Name:{self._n},average:{self.avg():.2f}\")\n",
    "grades=eval(input(\"enter marks sepby comma:\"))\n",
    "n=input(\"enter nname:\")\n",
    "s=stu(n,grades)\n",
    "print(s.avg())\n",
    "s.dis()"
   ]
  },
  {
   "cell_type": "code",
   "execution_count": 31,
   "id": "e8eca32c-3bcf-48f1-b8e8-7e90269f0f52",
   "metadata": {},
   "outputs": [
    {
     "data": {
      "text/plain": [
       "'\\n1.Exception\\n2.StandardError\\n3.SysteError  -sys.exit()\\n4.OverflowError\\n5.ArthmeticError\\n6.IndexError\\n7.KeyError\\n8.KeyboardInterupt\\n9.StopIterationError\\n10.EnvitonmentalError\\n11.IOEror\\n12.NotImplementedError\\n'"
      ]
     },
     "execution_count": 31,
     "metadata": {},
     "output_type": "execute_result"
    }
   ],
   "source": [
    "'''errrors and exceptions'''\n",
    "'''built-in exceptions'''\n",
    "'''\n",
    "1.Exception\n",
    "2.StandardError\n",
    "3.SysteError  -sys.exit()\n",
    "4.OverflowError\n",
    "5.ArthmeticError\n",
    "6.IndexError\n",
    "7.KeyError\n",
    "8.KeyboardInterupt\n",
    "9.StopIterationError\n",
    "10.EnvitonmentalError\n",
    "11.IOEror\n",
    "12.NotImplementedError\n",
    "'''"
   ]
  },
  {
   "cell_type": "code",
   "execution_count": 2,
   "id": "c687f3ba-55d3-4759-a500-eb12f1af984f",
   "metadata": {},
   "outputs": [
    {
     "data": {
      "text/plain": [
       "'\\ntry:\\n    stmt1\\n    stmt2\\nexcept exceptionname:\\n    stmtss\\n'"
      ]
     },
     "execution_count": 2,
     "metadata": {},
     "output_type": "execute_result"
    }
   ],
   "source": [
    "'''try and except syntax'''\n",
    "'''\n",
    "try:\n",
    "    stmt1\n",
    "    stmt2\n",
    "except exceptionname:\n",
    "    stmtss\n",
    "'''"
   ]
  },
  {
   "cell_type": "code",
   "execution_count": 10,
   "id": "7063746e-4adf-4488-8847-1b82afdaa838",
   "metadata": {},
   "outputs": [
    {
     "name": "stdin",
     "output_type": "stream",
     "text": [
      "enter numerator: 10\n",
      "enter denominator: 6\n"
     ]
    },
    {
     "name": "stdout",
     "output_type": "stream",
     "text": [
      "Quotient: 1.6666666666666667\n"
     ]
    }
   ],
   "source": [
    "#handling zero exception \n",
    "num1=int(input(\"enter numerator:\"))\n",
    "num2=int(input(\"enter denominator:\"))\n",
    "try:\n",
    "    quo=num1/num2\n",
    "    print(\"Quotient:\",quo)\n",
    "except ZeroDivisionError:\n",
    "    print(\"Denominator cannot be zero\")"
   ]
  },
  {
   "cell_type": "code",
   "execution_count": 22,
   "id": "bbbc1484-a83a-4fcf-bb96-04c8f79f712c",
   "metadata": {},
   "outputs": [
    {
     "name": "stdin",
     "output_type": "stream",
     "text": [
      "enter a number: afdsfadf\n"
     ]
    },
    {
     "name": "stdout",
     "output_type": "stream",
     "text": [
      "you should give only integer\n",
      "Exit from exception\n"
     ]
    }
   ],
   "source": [
    "#multiple exception blocks\n",
    "try:\n",
    "    num=int(input(\"enter a number:\"))\n",
    "    print(num**3)\n",
    "except (KeyboardInterrupt):\n",
    "    print(\"enter only numeric------program end!!!\")\n",
    "except (ValueError):\n",
    "    print(\"you should give only integer\")\n",
    "print(\"Exit from exception\")"
   ]
  },
  {
   "cell_type": "code",
   "execution_count": 34,
   "id": "b73bdc63-aea6-4f4f-97ce-1742f121fdf6",
   "metadata": {},
   "outputs": [
    {
     "name": "stdin",
     "output_type": "stream",
     "text": [
      "enter a number: 567.9\n"
     ]
    },
    {
     "name": "stdout",
     "output_type": "stream",
     "text": [
      "Accessing from the blocks above!!!\n",
      "Exit\n"
     ]
    }
   ],
   "source": [
    "#multiple exceptions with sngle block\n",
    "try:\n",
    "    num=int(input(\"enter a number:\"))\n",
    "    print(num-44)\n",
    "except (ValueError,TypeError):\n",
    "    print(\"Accessing from the blocks above!!!\")\n",
    "print(\"Exit\")\n"
   ]
  },
  {
   "cell_type": "code",
   "execution_count": null,
   "id": "b81fef11-d269-4d0d-a943-a09f2112abc5",
   "metadata": {},
   "outputs": [],
   "source": []
  }
 ],
 "metadata": {
  "kernelspec": {
   "display_name": "Python 3 (ipykernel)",
   "language": "python",
   "name": "python3"
  },
  "language_info": {
   "codemirror_mode": {
    "name": "ipython",
    "version": 3
   },
   "file_extension": ".py",
   "mimetype": "text/x-python",
   "name": "python",
   "nbconvert_exporter": "python",
   "pygments_lexer": "ipython3",
   "version": "3.12.7"
  }
 },
 "nbformat": 4,
 "nbformat_minor": 5
}
