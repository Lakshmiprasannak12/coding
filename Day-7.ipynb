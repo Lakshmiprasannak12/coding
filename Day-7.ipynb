{
 "cells": [
  {
   "cell_type": "code",
   "execution_count": 7,
   "id": "5c7398b3-ca5f-4f15-b219-cfec1744f483",
   "metadata": {},
   "outputs": [
    {
     "name": "stdout",
     "output_type": "stream",
     "text": [
      "Animal Sound\n",
      "Dog barks!\n",
      "Puppy weep...!\n"
     ]
    }
   ],
   "source": [
    "# Multi-Level inheritance \n",
    "\n",
    "class pet:\n",
    "    def sound(self):\n",
    "        print(\"Animal Sound\")\n",
    "class dog(pet):\n",
    "    def bark(self):\n",
    "        print(\"Dog barks!\")\n",
    "class puppy(dog):\n",
    "    def weep(self):\n",
    "        print(\"Puppy weep...!\")\n",
    "p=puppy()\n",
    "p.sound()\n",
    "p.bark()\n",
    "p.weep()"
   ]
  },
  {
   "cell_type": "code",
   "execution_count": 29,
   "id": "0f2bb84a-01ec-4eac-89b8-74fd7fde0ea2",
   "metadata": {},
   "outputs": [
    {
     "name": "stdin",
     "output_type": "stream",
     "text": [
      "Enter x: 5\n",
      "Enter y: 2\n"
     ]
    },
    {
     "name": "stdout",
     "output_type": "stream",
     "text": [
      "Addition: 7\n",
      "Subtract: 3\n",
      "Product: 10\n",
      "Divide: 2.5\n"
     ]
    }
   ],
   "source": [
    "\"\"\" Code for math operations using base class , with 1st and 2nd derived class respectively .\n",
    "Create an obj where derived class will be executed and perform multiple operations.  \"\"\"\n",
    "\n",
    "class no:\n",
    "    def __init__(self,a,b):\n",
    "        self.a=a\n",
    "        self.b=b\n",
    "class basicops(no):\n",
    "    def add(self):\n",
    "        return self.a+self.b\n",
    "    def sub(self):\n",
    "        return self.a-self.b\n",
    "class advops(basicops):\n",
    "    def mul(self):\n",
    "        return self.a*self.b\n",
    "    def div(self):\n",
    "        return self.a/self.b\n",
    "        \n",
    "x=int(input(\"Enter x:\"))\n",
    "y=int(input(\"Enter y:\"))\n",
    "c=advops(x,y)\n",
    "print(\"Addition:\",c.add())\n",
    "print(\"Subtract:\",c.sub())\n",
    "print(\"Product:\",c.mul())\n",
    "print(\"Divide:\",c.div())"
   ]
  },
  {
   "cell_type": "code",
   "execution_count": 57,
   "id": "06ecc920-064c-4f99-8b12-65056784d5b6",
   "metadata": {},
   "outputs": [
    {
     "name": "stdout",
     "output_type": "stream",
     "text": [
      "Name: Henry\n",
      "Total: 345\n",
      "Avg: 86.25\n",
      "Grade: B\n"
     ]
    }
   ],
   "source": [
    "\"\"\"  Code for student grading system , where student base class has to be derived by marks and marks with grades in a multi-level inheritance .\n",
    "Caliculate the grade to be alloted to the student with marks A,B,C,D with >=90 , >=75, >=60 or less than 60 respectively.\n",
    "\n",
    "Student : Henry\n",
    "marks : [85,90,78,92]\n",
    "caliculate and display marks, avg, grade of Henry    \"\"\"\n",
    "\n",
    "class student:\n",
    "    def __init__(self,name,mark):\n",
    "        self.name=name\n",
    "        self.mark=mark\n",
    "class marks(student):\n",
    "    def mar(self):\n",
    "        return sum(self.mark)\n",
    "    def avg(self):\n",
    "        return sum(self.mark)/len(self.mark)\n",
    "class grade(marks):\n",
    "    def grad(self):\n",
    "        b=self.avg()\n",
    "        if b>=90:\n",
    "            return \"A\"\n",
    "        elif b>=75 and b<=90:\n",
    "            return \"B\"\n",
    "        elif b>=60 and b<=75:\n",
    "            return \"C\"\n",
    "        else:\n",
    "            return \"D\"\n",
    "a=grade('Henry', [85,90,78,92] )\n",
    "print(\"Name:\" ,a.name)\n",
    "print(\"Total:\" ,a.mar())\n",
    "print(\"Avg:\" ,a.avg())\n",
    "print(\"Grade:\" ,a.grad())\n"
   ]
  },
  {
   "cell_type": "code",
   "execution_count": 53,
   "id": "cc62d701-733a-4642-88d6-a4bc77f60a93",
   "metadata": {},
   "outputs": [
    {
     "name": "stdin",
     "output_type": "stream",
     "text": [
      "Enter Name: Ramya\n",
      "Enter no of subjects: 4\n",
      "Enter the marks for subject 1: 85\n",
      "Enter the marks for subject 2: 90\n",
      "Enter the marks for subject 3: 75\n",
      "Enter the marks for subject 4: 92\n"
     ]
    },
    {
     "name": "stdout",
     "output_type": "stream",
     "text": [
      "Name: Ramya\n",
      "Total: 342.0\n",
      "Avg: 85.5\n",
      "Grade: B\n"
     ]
    }
   ],
   "source": [
    "\"\"\" Sir Cheppina dhe \"\"\"\n",
    "\n",
    "class student:\n",
    "    def __init__(self,name):\n",
    "        self.name=name\n",
    "class marks(student):\n",
    "    def __init__(self,name,marks):\n",
    "        super().__init__(name)\n",
    "        self.marks=marks\n",
    "    def t_marks(self):\n",
    "        return sum(self.marks)\n",
    "class grade(marks):\n",
    "    def avg(self):\n",
    "        return self.t_marks()/len(self.marks)\n",
    "    def c_grade(self):\n",
    "        b=self.avg()\n",
    "        if b>=90:\n",
    "            return \"A\"\n",
    "        elif b>=75 and b<=90:\n",
    "            return \"B\"\n",
    "        elif b>=60 and b<=75:\n",
    "            return \"C\"\n",
    "        else:\n",
    "            return \"D\"\n",
    "name=input(\"Enter Name:\")\n",
    "subjects=int(input(\"Enter no of subjects:\"))\n",
    "marks=[]\n",
    "for i in range(subjects):\n",
    "    mark=float(input(f\"Enter the marks for subject {i+1}:\"))\n",
    "    marks.append(mark)\n",
    "a=grade(name,marks )\n",
    "print(\"Name:\" ,a.name)\n",
    "print(\"Total:\" ,a.t_marks())\n",
    "print(\"Avg:\" ,a.avg())\n",
    "print(\"Grade:\" ,a.c_grade())"
   ]
  },
  {
   "cell_type": "code",
   "execution_count": 81,
   "id": "56204fda-38ee-479c-983f-27cec66b473b",
   "metadata": {},
   "outputs": [
    {
     "name": "stdout",
     "output_type": "stream",
     "text": [
      "Milo barks!\n",
      "Kitty Meows!\n"
     ]
    }
   ],
   "source": [
    "\"\"\" Hierarchical Inheritance \"\"\"\n",
    "\n",
    "class pet:\n",
    "    def __init__(self,name):\n",
    "        self.name=name\n",
    "    def sounds(self):\n",
    "        print(f\"{self.name} makes a sound\")\n",
    "class dog(pet):\n",
    "    def sound(self):\n",
    "        print(f\"{self.name} barks!\")\n",
    "class cat(pet):\n",
    "    def sound(self):\n",
    "        print(f\"{self.name} Meows!\")\n",
    "#name=input(\"Enter Name:\")\n",
    "d=dog(\"Milo\")\n",
    "c=cat(\"Kitty\")\n",
    "#d.sounds()\n",
    "d.sound()\n",
    "#c.sounds()\n",
    "c.sound()"
   ]
  },
  {
   "cell_type": "code",
   "execution_count": 97,
   "id": "cf0fc48a-9a44-46ac-b12b-f2bc5b43214d",
   "metadata": {},
   "outputs": [
    {
     "name": "stdout",
     "output_type": "stream",
     "text": [
      "Rectangle Area : 50\n",
      "Circle Area : 153.93804002589985\n",
      "Triangle Area : 24.0\n"
     ]
    }
   ],
   "source": [
    "''' Hierarchical geometry operations of diff shapes , area  values of all circle , rectangle , triangle derived classes  '''\n",
    "\n",
    "from math import pi\n",
    "class shape:\n",
    "    def __init__(self,d1,d2=0):\n",
    "        self.d1=d1\n",
    "        self.d2=d2\n",
    "class rect(shape):\n",
    "    def area(self):\n",
    "        return self.d1*self.d2\n",
    "class circle(shape):\n",
    "    def area(self):\n",
    "        return math.pi*self.d1**2\n",
    "class triangle(shape):\n",
    "    def area(self):\n",
    "        return 0.5*self.d1*self.d2\n",
    "r=rect(10,5)\n",
    "c=circle(7)\n",
    "t=triangle(8,6)\n",
    "print(\"Rectangle Area :\",r.area())\n",
    "print(\"Circle Area :\",c.area())\n",
    "print(\"Triangle Area :\",t.area())"
   ]
  },
  {
   "cell_type": "code",
   "execution_count": 113,
   "id": "64d021a4-aa6d-4b04-b199-0f7361eed679",
   "metadata": {},
   "outputs": [
    {
     "name": "stdout",
     "output_type": "stream",
     "text": [
      "Area Of Rectangle: 22\n",
      "Area Of Circle: 113.1\n",
      "Area Of Triangle: 12.0\n"
     ]
    }
   ],
   "source": [
    "# Abstraction \n",
    "\"\"\" Abstraction Of the base class for evaluating  the area of circle , rectangle , triangle  \"\"\"\n",
    "\n",
    "from abc import ABC , abstractmethod\n",
    "from math import pi\n",
    "\n",
    "class shape(ABC):\n",
    "    def __init__(self,name):\n",
    "        self.name=name\n",
    "    @abstractmethod\n",
    "    def area(self):\n",
    "        pass\n",
    "        \n",
    "class rect(shape):\n",
    "    def __init__(self,l,b):\n",
    "        super().__init__(\"rect\")\n",
    "        self.l=l\n",
    "        self.b=b\n",
    "    def area(self):\n",
    "        return self.l * self.b\n",
    "        \n",
    "class circle(shape):\n",
    "    def __init__(self,r):\n",
    "        super().__init__(\"circle\")\n",
    "        self.r=r\n",
    "    def area(self):\n",
    "        return pi * self.r**2\n",
    "        \n",
    "class triangle(shape):\n",
    "    def __init__(self,b,h):\n",
    "        super().__init__(\"triangle\")\n",
    "        self.b=b\n",
    "        self.h=h\n",
    "    def area(self):\n",
    "        return 0.5 * self.b * self.h\n",
    "        \n",
    "r=rect(11,2)\n",
    "c=circle(6)\n",
    "t=triangle(4,6)\n",
    "\n",
    "print(\"Area Of Rectangle:\" ,r.area())\n",
    "print(\"Area Of Circle:\" ,round(c.area(),2))\n",
    "print(\"Area Of Triangle:\" ,t.area())"
   ]
  },
  {
   "cell_type": "code",
   "execution_count": null,
   "id": "7cf89395-b2b8-4e59-b532-98e79e74c117",
   "metadata": {},
   "outputs": [],
   "source": []
  }
 ],
 "metadata": {
  "kernelspec": {
   "display_name": "Python 3 (ipykernel)",
   "language": "python",
   "name": "python3"
  },
  "language_info": {
   "codemirror_mode": {
    "name": "ipython",
    "version": 3
   },
   "file_extension": ".py",
   "mimetype": "text/x-python",
   "name": "python",
   "nbconvert_exporter": "python",
   "pygments_lexer": "ipython3",
   "version": "3.12.7"
  }
 },
 "nbformat": 4,
 "nbformat_minor": 5
}
